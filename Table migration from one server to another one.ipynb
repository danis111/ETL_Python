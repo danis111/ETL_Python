{
 "cells": [
  {
   "cell_type": "code",
   "execution_count": 1,
   "id": "d44330e8",
   "metadata": {},
   "outputs": [
    {
     "name": "stdout",
     "output_type": "stream",
     "text": [
      "9077 rows have been migrated successfully\n"
     ]
    }
   ],
   "source": [
    "from sqlalchemy import create_engine, text\n",
    "import pandas as pd\n",
    "# Connect to the source SQL Server database\n",
    "Main_server_name1='DESKTOP-DRB7DGT\\danya'\n",
    "Main_DB1='Bikestores'\n",
    "Main_DB2='Data'\n",
    "user=''\n",
    "password=''\n",
    "\n",
    "source_engine = create_engine(\n",
    "                    f\"mssql+pyodbc://{user}:{password}@{Main_server_name1}/{Main_DB1}?driver=ODBC+Driver+17+for+SQL+Server\",\n",
    "                    fast_executemany=True)\n",
    "\n",
    "\n",
    "destination_engine = create_engine(\n",
    "                    f\"mssql+pyodbc://{user}:{password}@{Main_server_name1}/{Main_DB2}?driver=ODBC+Driver+17+for+SQL+Server\",\n",
    "                    fast_executemany=True)\n",
    "\n",
    "    \n",
    "\n",
    "\n",
    "\n",
    "def Table_names(text):\n",
    "    df = pd.read_sql(text, source_engine)\n",
    "    df[\"table\"] = df[\"schema_names\"] +\".\"+ df[\"table_names\"]\n",
    "    df.drop([df.columns[0], df.columns[1]],inplace=True, axis=1)\n",
    "    return Migration(df)\n",
    "\n",
    "\n",
    "def Migration(df):\n",
    "    \n",
    "    \n",
    "    total=0\n",
    "    for table in df[\"table\"]:\n",
    "        \n",
    "    \n",
    "        # Read the data from the source SQL Server table and load it into a Pandas dataframe\n",
    "        df = pd.read_sql(f\"SELECT * FROM {table}\", source_engine)\n",
    "        schema_name=table.split(\".\")[0]\n",
    "        table_name=table.split(\".\")[1]\n",
    "        # Write the dataframe to the destination SQL Server table\n",
    "        df.to_sql(table_name, destination_engine, schema=schema_name,if_exists='replace',index=False)\n",
    "        total=total+ len(df)\n",
    "    \n",
    "    print(total ,\"rows have been migrated successfully\")\n",
    "\n",
    "    \n",
    "# those are tables I want to extract from sql servers\n",
    "   \n",
    "text='''select s.name as schema_names,t.name as table_names from sys.schemas s join sys.tables t\n",
    "        on s.schema_id=t.schema_id\n",
    "        where s.name in('production','sales') and t.name not in('contacts','product_audits','promotions')'''    \n",
    "Table_names(text)\n"
   ]
  },
  {
   "cell_type": "code",
   "execution_count": null,
   "id": "f56da481",
   "metadata": {},
   "outputs": [],
   "source": []
  }
 ],
 "metadata": {
  "kernelspec": {
   "display_name": "Python 3 (ipykernel)",
   "language": "python",
   "name": "python3"
  },
  "language_info": {
   "codemirror_mode": {
    "name": "ipython",
    "version": 3
   },
   "file_extension": ".py",
   "mimetype": "text/x-python",
   "name": "python",
   "nbconvert_exporter": "python",
   "pygments_lexer": "ipython3",
   "version": "3.10.1"
  }
 },
 "nbformat": 4,
 "nbformat_minor": 5
}
