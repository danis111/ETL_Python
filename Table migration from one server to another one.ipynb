{
 "cells": [
  {
   "cell_type": "code",
   "execution_count": 5,
   "id": "a885f9ee",
   "metadata": {},
   "outputs": [
    {
     "data": {
      "text/html": [
       "<div>\n",
       "<style scoped>\n",
       "    .dataframe tbody tr th:only-of-type {\n",
       "        vertical-align: middle;\n",
       "    }\n",
       "\n",
       "    .dataframe tbody tr th {\n",
       "        vertical-align: top;\n",
       "    }\n",
       "\n",
       "    .dataframe thead th {\n",
       "        text-align: right;\n",
       "    }\n",
       "</style>\n",
       "<table border=\"1\" class=\"dataframe\">\n",
       "  <thead>\n",
       "    <tr style=\"text-align: right;\">\n",
       "      <th></th>\n",
       "      <th>table</th>\n",
       "    </tr>\n",
       "  </thead>\n",
       "  <tbody>\n",
       "    <tr>\n",
       "      <th>0</th>\n",
       "      <td>production.categories</td>\n",
       "    </tr>\n",
       "    <tr>\n",
       "      <th>1</th>\n",
       "      <td>production.brands</td>\n",
       "    </tr>\n",
       "    <tr>\n",
       "      <th>2</th>\n",
       "      <td>production.products</td>\n",
       "    </tr>\n",
       "    <tr>\n",
       "      <th>3</th>\n",
       "      <td>sales.customers</td>\n",
       "    </tr>\n",
       "    <tr>\n",
       "      <th>4</th>\n",
       "      <td>sales.stores</td>\n",
       "    </tr>\n",
       "    <tr>\n",
       "      <th>5</th>\n",
       "      <td>sales.staffs</td>\n",
       "    </tr>\n",
       "    <tr>\n",
       "      <th>6</th>\n",
       "      <td>sales.orders</td>\n",
       "    </tr>\n",
       "    <tr>\n",
       "      <th>7</th>\n",
       "      <td>sales.order_items</td>\n",
       "    </tr>\n",
       "    <tr>\n",
       "      <th>8</th>\n",
       "      <td>production.stocks</td>\n",
       "    </tr>\n",
       "    <tr>\n",
       "      <th>9</th>\n",
       "      <td>sales.targets</td>\n",
       "    </tr>\n",
       "  </tbody>\n",
       "</table>\n",
       "</div>"
      ],
      "text/plain": [
       "                   table\n",
       "0  production.categories\n",
       "1      production.brands\n",
       "2    production.products\n",
       "3        sales.customers\n",
       "4           sales.stores\n",
       "5           sales.staffs\n",
       "6           sales.orders\n",
       "7      sales.order_items\n",
       "8      production.stocks\n",
       "9          sales.targets"
      ]
     },
     "execution_count": 5,
     "metadata": {},
     "output_type": "execute_result"
    }
   ],
   "source": [
    "#This table illustrates\n",
    "from sqlalchemy import create_engine, text\n",
    "import pandas as pd\n",
    "Main_server_name1='DESKTOP-DRB7DGT\\danya'\n",
    "Main_DB1='Bikestores'\n",
    "Main_DB2='Data'\n",
    "user=''\n",
    "password=''\n",
    "source_engine = create_engine(\n",
    "                    f\"mssql+pyodbc://{user}:{password}@{Main_server_name1}/{Main_DB1}?driver=ODBC+Driver+17+for+SQL+Server\",\n",
    "                    fast_executemany=True)\n",
    "text='''select s.name as schema_names,t.name as table_names from sys.schemas s join sys.tables t\n",
    "        on s.schema_id=t.schema_id\n",
    "        where s.name in('production','sales') and t.name not in('contacts','product_audits','promotions')''' \n",
    "df = pd.read_sql(text, source_engine)\n",
    "df[\"table\"] = df[\"schema_names\"] +\".\"+ df[\"table_names\"]\n",
    "df.drop([df.columns[0], df.columns[1]],inplace=True, axis=1)\n",
    "df"
   ]
  },
  {
   "cell_type": "code",
   "execution_count": 1,
   "id": "68ad0c6b",
   "metadata": {},
   "outputs": [
    {
     "name": "stdout",
     "output_type": "stream",
     "text": [
      "9077 rows have been migrated successfully\n"
     ]
    }
   ],
   "source": [
    "from sqlalchemy import create_engine, text\n",
    "import pandas as pd\n",
    "# Connect to the source SQL Server database\n",
    "Main_server_name1='DESKTOP-DRB7DGT\\danya'\n",
    "Main_DB1='Bikestores'\n",
    "Main_DB2='Data'\n",
    "user=''\n",
    "password=''\n",
    "\n",
    "source_engine = create_engine(\n",
    "                    f\"mssql+pyodbc://{user}:{password}@{Main_server_name1}/{Main_DB1}?driver=ODBC+Driver+17+for+SQL+Server\",\n",
    "                    fast_executemany=True)\n",
    "\n",
    "\n",
    "destination_engine = create_engine(\n",
    "                    f\"mssql+pyodbc://{user}:{password}@{Main_server_name1}/{Main_DB2}?driver=ODBC+Driver+17+for+SQL+Server\",\n",
    "                    fast_executemany=True)\n",
    "\n",
    "    \n",
    "\n",
    "\n",
    "\n",
    "def Table_names(text):\n",
    "    df = pd.read_sql(text, source_engine)\n",
    "    df[\"table\"] = df[\"schema_names\"] +\".\"+ df[\"table_names\"]\n",
    "    df.drop([df.columns[0], df.columns[1]],inplace=True, axis=1)\n",
    "    return Migration(df)\n",
    "\n",
    "\n",
    "def Migration(df):\n",
    "    \n",
    "    \n",
    "    total=0\n",
    "    for table in df[\"table\"]:\n",
    "        \n",
    "    \n",
    "        # Read the data from the source SQL Server table and load it into a Pandas dataframe\n",
    "        df = pd.read_sql(f\"SELECT * FROM {table}\", source_engine)\n",
    "        schema_name=table.split(\".\")[0]\n",
    "        table_name=table.split(\".\")[1]\n",
    "        # Write the dataframe to the destination SQL Server table\n",
    "        df.to_sql(table_name, destination_engine, schema=schema_name,if_exists='replace',index=False)\n",
    "        total=total+ len(df)\n",
    "    \n",
    "    print(total ,\"rows have been migrated successfully\")\n",
    "\n",
    "    \n",
    "# those are tables I want to extract from sql server\n",
    "   \n",
    "text='''select s.name as schema_names,t.name as table_names from sys.schemas s join sys.tables t\n",
    "        on s.schema_id=t.schema_id\n",
    "        where s.name in('production','sales') and t.name not in('contacts','product_audits','promotions')'''    \n",
    "Table_names(text)\n"
   ]
  },
  {
   "cell_type": "code",
   "execution_count": 2,
   "id": "3ef540cd",
   "metadata": {},
   "outputs": [
    {
     "ename": "NameError",
     "evalue": "name 'df' is not defined",
     "output_type": "error",
     "traceback": [
      "\u001b[1;31m---------------------------------------------------------------------------\u001b[0m",
      "\u001b[1;31mNameError\u001b[0m                                 Traceback (most recent call last)",
      "\u001b[1;32m~\\AppData\\Local\\Temp/ipykernel_14484/1396537375.py\u001b[0m in \u001b[0;36m<module>\u001b[1;34m\u001b[0m\n\u001b[1;32m----> 1\u001b[1;33m \u001b[0mdf\u001b[0m\u001b[1;33m\u001b[0m\u001b[1;33m\u001b[0m\u001b[0m\n\u001b[0m",
      "\u001b[1;31mNameError\u001b[0m: name 'df' is not defined"
     ]
    }
   ],
   "source": []
  },
  {
   "cell_type": "code",
   "execution_count": null,
   "id": "ba3b90c9",
   "metadata": {},
   "outputs": [],
   "source": []
  }
 ],
 "metadata": {
  "kernelspec": {
   "display_name": "Python 3 (ipykernel)",
   "language": "python",
   "name": "python3"
  },
  "language_info": {
   "codemirror_mode": {
    "name": "ipython",
    "version": 3
   },
   "file_extension": ".py",
   "mimetype": "text/x-python",
   "name": "python",
   "nbconvert_exporter": "python",
   "pygments_lexer": "ipython3",
   "version": "3.10.1"
  }
 },
 "nbformat": 4,
 "nbformat_minor": 5
}
